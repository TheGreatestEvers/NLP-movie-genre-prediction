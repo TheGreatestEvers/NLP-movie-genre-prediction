{
 "cells": [
  {
   "metadata": {},
   "cell_type": "markdown",
   "source": [
    "<H1>Column Combiner</H1>\n",
    "<h4> This notebook is used to combines the columns title, from, director, and plot to a single column</h4>"
   ],
   "id": "f8baccac049acca"
  },
  {
   "metadata": {
    "ExecuteTime": {
     "end_time": "2024-10-06T17:57:29.398351Z",
     "start_time": "2024-10-06T17:57:29.395321Z"
    }
   },
   "cell_type": "code",
   "source": [
    "import pandas as pd\n",
    "import matplotlib.pyplot as plt"
   ],
   "id": "476fbccdf3e918d6",
   "outputs": [],
   "execution_count": 40
  },
  {
   "cell_type": "code",
   "id": "initial_id",
   "metadata": {
    "collapsed": true,
    "ExecuteTime": {
     "end_time": "2024-10-06T17:57:29.806950Z",
     "start_time": "2024-10-06T17:57:29.631566Z"
    }
   },
   "source": "train_cleaned = pd.read_csv('data/train_cleaned.txt', sep='\\t', header=None, names=['title', 'from', 'genre', 'director', 'plot'])",
   "outputs": [],
   "execution_count": 41
  },
  {
   "metadata": {
    "ExecuteTime": {
     "end_time": "2024-10-06T17:57:29.914839Z",
     "start_time": "2024-10-06T17:57:29.909163Z"
    }
   },
   "cell_type": "code",
   "source": "train_cleaned.head()",
   "id": "24cba386c65bd703",
   "outputs": [
    {
     "data": {
      "text/plain": [
       "                       title       from    genre       director  \\\n",
       "0               ela cheppanu     telugu  romance         ramana   \n",
       "1  a nightmare on elm street   american   horror   samuel bayer   \n",
       "2            american gothic   american   horror     john hough   \n",
       "3                       gang  bollywood    crime    mazhar khan   \n",
       "4         intimate relations    british    drama  charles frank   \n",
       "\n",
       "                                                plot  \n",
       "0  sekhar tarun is a graduate from iim and works ...  \n",
       "1  kris fowles katie cassidy goes to the springwo...  \n",
       "2  cynthia is traumatized by the death of her bab...  \n",
       "3  four friends gangu jackie shroff abdul nana pa...  \n",
       "4  crisis in a middleclass family when the son fa...  "
      ],
      "text/html": [
       "<div>\n",
       "<style scoped>\n",
       "    .dataframe tbody tr th:only-of-type {\n",
       "        vertical-align: middle;\n",
       "    }\n",
       "\n",
       "    .dataframe tbody tr th {\n",
       "        vertical-align: top;\n",
       "    }\n",
       "\n",
       "    .dataframe thead th {\n",
       "        text-align: right;\n",
       "    }\n",
       "</style>\n",
       "<table border=\"1\" class=\"dataframe\">\n",
       "  <thead>\n",
       "    <tr style=\"text-align: right;\">\n",
       "      <th></th>\n",
       "      <th>title</th>\n",
       "      <th>from</th>\n",
       "      <th>genre</th>\n",
       "      <th>director</th>\n",
       "      <th>plot</th>\n",
       "    </tr>\n",
       "  </thead>\n",
       "  <tbody>\n",
       "    <tr>\n",
       "      <th>0</th>\n",
       "      <td>ela cheppanu</td>\n",
       "      <td>telugu</td>\n",
       "      <td>romance</td>\n",
       "      <td>ramana</td>\n",
       "      <td>sekhar tarun is a graduate from iim and works ...</td>\n",
       "    </tr>\n",
       "    <tr>\n",
       "      <th>1</th>\n",
       "      <td>a nightmare on elm street</td>\n",
       "      <td>american</td>\n",
       "      <td>horror</td>\n",
       "      <td>samuel bayer</td>\n",
       "      <td>kris fowles katie cassidy goes to the springwo...</td>\n",
       "    </tr>\n",
       "    <tr>\n",
       "      <th>2</th>\n",
       "      <td>american gothic</td>\n",
       "      <td>american</td>\n",
       "      <td>horror</td>\n",
       "      <td>john hough</td>\n",
       "      <td>cynthia is traumatized by the death of her bab...</td>\n",
       "    </tr>\n",
       "    <tr>\n",
       "      <th>3</th>\n",
       "      <td>gang</td>\n",
       "      <td>bollywood</td>\n",
       "      <td>crime</td>\n",
       "      <td>mazhar khan</td>\n",
       "      <td>four friends gangu jackie shroff abdul nana pa...</td>\n",
       "    </tr>\n",
       "    <tr>\n",
       "      <th>4</th>\n",
       "      <td>intimate relations</td>\n",
       "      <td>british</td>\n",
       "      <td>drama</td>\n",
       "      <td>charles frank</td>\n",
       "      <td>crisis in a middleclass family when the son fa...</td>\n",
       "    </tr>\n",
       "  </tbody>\n",
       "</table>\n",
       "</div>"
      ]
     },
     "execution_count": 42,
     "metadata": {},
     "output_type": "execute_result"
    }
   ],
   "execution_count": 42
  },
  {
   "metadata": {
    "ExecuteTime": {
     "end_time": "2024-10-06T17:57:30.522163Z",
     "start_time": "2024-10-06T17:57:30.462946Z"
    }
   },
   "cell_type": "code",
   "source": [
    "train_cleaned['combined_text'] = train_cleaned.apply(\n",
    "    lambda row: f\"Title: {row['title']}. From: {row['from']}. Directed by: {row['director']}. Plot: {row['plot']}\", \n",
    "    axis=1\n",
    ")"
   ],
   "id": "275ff853d2bf1d2f",
   "outputs": [],
   "execution_count": 43
  },
  {
   "metadata": {
    "ExecuteTime": {
     "end_time": "2024-10-06T17:57:30.986411Z",
     "start_time": "2024-10-06T17:57:30.981218Z"
    }
   },
   "cell_type": "code",
   "source": [
    "# drop all old columns and keep only the combined_text and genre columns\n",
    "train_cleaned = train_cleaned.drop(columns=['title', 'from', 'director', 'plot'])"
   ],
   "id": "1d4b93db8d1e2913",
   "outputs": [],
   "execution_count": 44
  },
  {
   "metadata": {
    "ExecuteTime": {
     "end_time": "2024-10-06T17:57:32.060724Z",
     "start_time": "2024-10-06T17:57:32.053067Z"
    }
   },
   "cell_type": "code",
   "source": "train_cleaned",
   "id": "cd944d6b2c4a56b5",
   "outputs": [
    {
     "data": {
      "text/plain": [
       "        genre                                      combined_text\n",
       "0     romance  Title: ela cheppanu. From: telugu. Directed by...\n",
       "1      horror  Title: a nightmare on elm street. From: americ...\n",
       "2      horror  Title: american gothic. From: american. Direct...\n",
       "3       crime  Title: gang. From: bollywood. Directed by: maz...\n",
       "4       drama  Title: intimate relations. From: british. Dire...\n",
       "...       ...                                                ...\n",
       "8018    drama  Title: sa 'yo lamang. From: filipino. Directed...\n",
       "8019    drama  Title: the lemon sisters. From: american. Dire...\n",
       "8020  romance  Title: dil ne phir yaad kiya. From: bollywood....\n",
       "8021  romance  Title: rehnaa hai terre dil mein. From: bollyw...\n",
       "8022   sci-fi  Title: things to come. From: british. Directed...\n",
       "\n",
       "[8023 rows x 2 columns]"
      ],
      "text/html": [
       "<div>\n",
       "<style scoped>\n",
       "    .dataframe tbody tr th:only-of-type {\n",
       "        vertical-align: middle;\n",
       "    }\n",
       "\n",
       "    .dataframe tbody tr th {\n",
       "        vertical-align: top;\n",
       "    }\n",
       "\n",
       "    .dataframe thead th {\n",
       "        text-align: right;\n",
       "    }\n",
       "</style>\n",
       "<table border=\"1\" class=\"dataframe\">\n",
       "  <thead>\n",
       "    <tr style=\"text-align: right;\">\n",
       "      <th></th>\n",
       "      <th>genre</th>\n",
       "      <th>combined_text</th>\n",
       "    </tr>\n",
       "  </thead>\n",
       "  <tbody>\n",
       "    <tr>\n",
       "      <th>0</th>\n",
       "      <td>romance</td>\n",
       "      <td>Title: ela cheppanu. From: telugu. Directed by...</td>\n",
       "    </tr>\n",
       "    <tr>\n",
       "      <th>1</th>\n",
       "      <td>horror</td>\n",
       "      <td>Title: a nightmare on elm street. From: americ...</td>\n",
       "    </tr>\n",
       "    <tr>\n",
       "      <th>2</th>\n",
       "      <td>horror</td>\n",
       "      <td>Title: american gothic. From: american. Direct...</td>\n",
       "    </tr>\n",
       "    <tr>\n",
       "      <th>3</th>\n",
       "      <td>crime</td>\n",
       "      <td>Title: gang. From: bollywood. Directed by: maz...</td>\n",
       "    </tr>\n",
       "    <tr>\n",
       "      <th>4</th>\n",
       "      <td>drama</td>\n",
       "      <td>Title: intimate relations. From: british. Dire...</td>\n",
       "    </tr>\n",
       "    <tr>\n",
       "      <th>...</th>\n",
       "      <td>...</td>\n",
       "      <td>...</td>\n",
       "    </tr>\n",
       "    <tr>\n",
       "      <th>8018</th>\n",
       "      <td>drama</td>\n",
       "      <td>Title: sa 'yo lamang. From: filipino. Directed...</td>\n",
       "    </tr>\n",
       "    <tr>\n",
       "      <th>8019</th>\n",
       "      <td>drama</td>\n",
       "      <td>Title: the lemon sisters. From: american. Dire...</td>\n",
       "    </tr>\n",
       "    <tr>\n",
       "      <th>8020</th>\n",
       "      <td>romance</td>\n",
       "      <td>Title: dil ne phir yaad kiya. From: bollywood....</td>\n",
       "    </tr>\n",
       "    <tr>\n",
       "      <th>8021</th>\n",
       "      <td>romance</td>\n",
       "      <td>Title: rehnaa hai terre dil mein. From: bollyw...</td>\n",
       "    </tr>\n",
       "    <tr>\n",
       "      <th>8022</th>\n",
       "      <td>sci-fi</td>\n",
       "      <td>Title: things to come. From: british. Directed...</td>\n",
       "    </tr>\n",
       "  </tbody>\n",
       "</table>\n",
       "<p>8023 rows × 2 columns</p>\n",
       "</div>"
      ]
     },
     "execution_count": 45,
     "metadata": {},
     "output_type": "execute_result"
    }
   ],
   "execution_count": 45
  },
  {
   "metadata": {
    "ExecuteTime": {
     "end_time": "2024-10-06T17:57:33.786256Z",
     "start_time": "2024-10-06T17:57:33.781193Z"
    }
   },
   "cell_type": "code",
   "source": [
    "# swap the columns\n",
    "train_cleaned = train_cleaned[['combined_text', 'genre']]"
   ],
   "id": "afa71aeb553f5f70",
   "outputs": [],
   "execution_count": 46
  },
  {
   "metadata": {
    "ExecuteTime": {
     "end_time": "2024-10-06T17:57:41.383163Z",
     "start_time": "2024-10-06T17:57:41.151560Z"
    }
   },
   "cell_type": "code",
   "source": [
    "# save the combined data to a new file\n",
    "train_cleaned.to_csv('data/train_combined.csv', index=False, header=True)"
   ],
   "id": "5efa25236b8bf2e1",
   "outputs": [],
   "execution_count": 47
  },
  {
   "metadata": {
    "ExecuteTime": {
     "end_time": "2024-10-06T17:27:41.959259Z",
     "start_time": "2024-10-06T17:27:41.952740Z"
    }
   },
   "cell_type": "code",
   "source": "train_cleaned.head()",
   "id": "3be7e47084be3b71",
   "outputs": [
    {
     "data": {
      "text/plain": [
       "                                       combined_text    genre\n",
       "0  Title: ela cheppanu. From: telugu. Directed by...  romance\n",
       "1  Title: a nightmare on elm street. From: americ...   horror\n",
       "2  Title: american gothic. From: american. Direct...   horror\n",
       "3  Title: gang. From: bollywood. Directed by: maz...    crime\n",
       "4  Title: intimate relations. From: british. Dire...    drama"
      ],
      "text/html": [
       "<div>\n",
       "<style scoped>\n",
       "    .dataframe tbody tr th:only-of-type {\n",
       "        vertical-align: middle;\n",
       "    }\n",
       "\n",
       "    .dataframe tbody tr th {\n",
       "        vertical-align: top;\n",
       "    }\n",
       "\n",
       "    .dataframe thead th {\n",
       "        text-align: right;\n",
       "    }\n",
       "</style>\n",
       "<table border=\"1\" class=\"dataframe\">\n",
       "  <thead>\n",
       "    <tr style=\"text-align: right;\">\n",
       "      <th></th>\n",
       "      <th>combined_text</th>\n",
       "      <th>genre</th>\n",
       "    </tr>\n",
       "  </thead>\n",
       "  <tbody>\n",
       "    <tr>\n",
       "      <th>0</th>\n",
       "      <td>Title: ela cheppanu. From: telugu. Directed by...</td>\n",
       "      <td>romance</td>\n",
       "    </tr>\n",
       "    <tr>\n",
       "      <th>1</th>\n",
       "      <td>Title: a nightmare on elm street. From: americ...</td>\n",
       "      <td>horror</td>\n",
       "    </tr>\n",
       "    <tr>\n",
       "      <th>2</th>\n",
       "      <td>Title: american gothic. From: american. Direct...</td>\n",
       "      <td>horror</td>\n",
       "    </tr>\n",
       "    <tr>\n",
       "      <th>3</th>\n",
       "      <td>Title: gang. From: bollywood. Directed by: maz...</td>\n",
       "      <td>crime</td>\n",
       "    </tr>\n",
       "    <tr>\n",
       "      <th>4</th>\n",
       "      <td>Title: intimate relations. From: british. Dire...</td>\n",
       "      <td>drama</td>\n",
       "    </tr>\n",
       "  </tbody>\n",
       "</table>\n",
       "</div>"
      ]
     },
     "execution_count": 12,
     "metadata": {},
     "output_type": "execute_result"
    }
   ],
   "execution_count": 12
  },
  {
   "metadata": {
    "ExecuteTime": {
     "end_time": "2024-10-06T17:29:13.723302Z",
     "start_time": "2024-10-06T17:29:13.547929Z"
    }
   },
   "cell_type": "code",
   "source": "text = pd.read_csv('data/train_combined.csv', header=None)",
   "id": "31f15f8c62ce2f2b",
   "outputs": [],
   "execution_count": 18
  },
  {
   "metadata": {
    "ExecuteTime": {
     "end_time": "2024-10-06T17:29:15.454127Z",
     "start_time": "2024-10-06T17:29:15.448839Z"
    }
   },
   "cell_type": "code",
   "source": "text.head()",
   "id": "ca88ec455a0e12f3",
   "outputs": [
    {
     "data": {
      "text/plain": [
       "                                                   0        1\n",
       "0  Title: ela cheppanu. From: telugu. Directed by...  romance\n",
       "1  Title: a nightmare on elm street. From: americ...   horror\n",
       "2  Title: american gothic. From: american. Direct...   horror\n",
       "3  Title: gang. From: bollywood. Directed by: maz...    crime\n",
       "4  Title: intimate relations. From: british. Dire...    drama"
      ],
      "text/html": [
       "<div>\n",
       "<style scoped>\n",
       "    .dataframe tbody tr th:only-of-type {\n",
       "        vertical-align: middle;\n",
       "    }\n",
       "\n",
       "    .dataframe tbody tr th {\n",
       "        vertical-align: top;\n",
       "    }\n",
       "\n",
       "    .dataframe thead th {\n",
       "        text-align: right;\n",
       "    }\n",
       "</style>\n",
       "<table border=\"1\" class=\"dataframe\">\n",
       "  <thead>\n",
       "    <tr style=\"text-align: right;\">\n",
       "      <th></th>\n",
       "      <th>0</th>\n",
       "      <th>1</th>\n",
       "    </tr>\n",
       "  </thead>\n",
       "  <tbody>\n",
       "    <tr>\n",
       "      <th>0</th>\n",
       "      <td>Title: ela cheppanu. From: telugu. Directed by...</td>\n",
       "      <td>romance</td>\n",
       "    </tr>\n",
       "    <tr>\n",
       "      <th>1</th>\n",
       "      <td>Title: a nightmare on elm street. From: americ...</td>\n",
       "      <td>horror</td>\n",
       "    </tr>\n",
       "    <tr>\n",
       "      <th>2</th>\n",
       "      <td>Title: american gothic. From: american. Direct...</td>\n",
       "      <td>horror</td>\n",
       "    </tr>\n",
       "    <tr>\n",
       "      <th>3</th>\n",
       "      <td>Title: gang. From: bollywood. Directed by: maz...</td>\n",
       "      <td>crime</td>\n",
       "    </tr>\n",
       "    <tr>\n",
       "      <th>4</th>\n",
       "      <td>Title: intimate relations. From: british. Dire...</td>\n",
       "      <td>drama</td>\n",
       "    </tr>\n",
       "  </tbody>\n",
       "</table>\n",
       "</div>"
      ]
     },
     "execution_count": 19,
     "metadata": {},
     "output_type": "execute_result"
    }
   ],
   "execution_count": 19
  },
  {
   "metadata": {
    "ExecuteTime": {
     "end_time": "2024-10-06T17:29:59.877226Z",
     "start_time": "2024-10-06T17:29:59.873787Z"
    }
   },
   "cell_type": "code",
   "source": "text[0][0]",
   "id": "8236c7d8b4ba952b",
   "outputs": [
    {
     "data": {
      "text/plain": [
       "'Title: ela cheppanu. From: telugu. Directed by: ramana. Plot: sekhar tarun is a graduate from iim and works as a business manager in a firm in hyderabad he meets amar varma siva balaji in a business party who runs a company named varma industries in germany when the party is over sekhar accidentally kills amar with his car sekhars friend sunil sunil saves him by erasing the evidence but sekhar feels guilty even after six months he goes to germany along with sunil to visit amars family they find that their business is in a bad condition and want to help them by reviving it with his business skills priya shriya who was engaged to amar earlier is trying her level best to run the business but helpless to run it smoothly sekhar introduces himself to priya and offer his help to revive the business the remaining story is about how sekhar helps the business grow and win priyas heart in that process'"
      ]
     },
     "execution_count": 22,
     "metadata": {},
     "output_type": "execute_result"
    }
   ],
   "execution_count": 22
  },
  {
   "metadata": {
    "ExecuteTime": {
     "end_time": "2024-10-06T17:29:35.482315Z",
     "start_time": "2024-10-06T17:29:35.477051Z"
    }
   },
   "cell_type": "code",
   "source": "text.l",
   "id": "cd53d634174d76a",
   "outputs": [
    {
     "data": {
      "text/plain": [
       "0    Title: ela cheppanu. From: telugu. Directed by...\n",
       "1                                              romance\n",
       "Name: 0, dtype: object"
      ]
     },
     "execution_count": 21,
     "metadata": {},
     "output_type": "execute_result"
    }
   ],
   "execution_count": 21
  },
  {
   "metadata": {
    "ExecuteTime": {
     "end_time": "2024-10-06T18:23:27.717347Z",
     "start_time": "2024-10-06T18:23:27.702912Z"
    }
   },
   "cell_type": "code",
   "source": [
    "# get the maximum length of the first column in characters\n",
    "max_len = text[0].apply(len).max()\n",
    "# get the average length of the first column in characters\n",
    "avg_len = text[0].apply(len).mean()\n",
    "\n",
    "# get the index of the longest text\n",
    "max_len_index = text[0].apply(len).idxmax()"
   ],
   "id": "50d77b2f746e25d3",
   "outputs": [],
   "execution_count": 49
  },
  {
   "metadata": {
    "ExecuteTime": {
     "end_time": "2024-10-06T18:23:36.522819Z",
     "start_time": "2024-10-06T18:23:36.519714Z"
    }
   },
   "cell_type": "code",
   "source": [
    "# get len of first cell in column 0\n",
    "len(text[0][0])"
   ],
   "id": "11b43ec3d27c1e2c",
   "outputs": [
    {
     "data": {
      "text/plain": [
       "903"
      ]
     },
     "execution_count": 50,
     "metadata": {},
     "output_type": "execute_result"
    }
   ],
   "execution_count": 50
  },
  {
   "metadata": {
    "ExecuteTime": {
     "end_time": "2024-10-06T18:21:48.729766Z",
     "start_time": "2024-10-06T18:21:48.726509Z"
    }
   },
   "cell_type": "code",
   "source": "max_len_index",
   "id": "163949c586bc046a",
   "outputs": [
    {
     "data": {
      "text/plain": [
       "2456"
      ]
     },
     "execution_count": 48,
     "metadata": {},
     "output_type": "execute_result"
    }
   ],
   "execution_count": 48
  },
  {
   "metadata": {
    "ExecuteTime": {
     "end_time": "2024-10-06T18:24:36.572036Z",
     "start_time": "2024-10-06T18:24:36.559818Z"
    }
   },
   "cell_type": "code",
   "source": [
    "# what percentage has more than 2500 words\n",
    "len(text[text[0].apply(len) > 2500]) / len(text) * 100"
   ],
   "id": "46f9f6e7fa6833cd",
   "outputs": [
    {
     "data": {
      "text/plain": [
       "37.47974573102331"
      ]
     },
     "execution_count": 51,
     "metadata": {},
     "output_type": "execute_result"
    }
   ],
   "execution_count": 51
  },
  {
   "metadata": {
    "ExecuteTime": {
     "end_time": "2024-10-06T17:43:24.360861Z",
     "start_time": "2024-10-06T17:43:24.353515Z"
    }
   },
   "cell_type": "code",
   "source": [
    "# give the number of texts that have more than 512 words\n",
    "len(text[text[0].apply(len) > 512])"
   ],
   "id": "b7eaa3e5e0573775",
   "outputs": [
    {
     "data": {
      "text/plain": [
       "6640"
      ]
     },
     "execution_count": 36,
     "metadata": {},
     "output_type": "execute_result"
    }
   ],
   "execution_count": 36
  },
  {
   "metadata": {
    "ExecuteTime": {
     "end_time": "2024-10-06T17:46:13.770869Z",
     "start_time": "2024-10-06T17:46:13.092895Z"
    }
   },
   "cell_type": "code",
   "source": [
    "# how many punctuations are there in the mean in each text\n",
    "text[0].apply(lambda x: sum([1 for c in x if c in ['.', ',', '!', '?']])).mean()"
   ],
   "id": "6ddf70e46ca5abdf",
   "outputs": [
    {
     "data": {
      "text/plain": [
       "np.float64(3.2265985292284682)"
      ]
     },
     "execution_count": 37,
     "metadata": {},
     "output_type": "execute_result"
    }
   ],
   "execution_count": 37
  },
  {
   "metadata": {
    "ExecuteTime": {
     "end_time": "2024-10-06T17:35:39.129247Z",
     "start_time": "2024-10-06T17:35:39.032046Z"
    }
   },
   "cell_type": "code",
   "source": [
    "# get histogram of the length of the text\n",
    "text[0].apply(len).hist(bins=50)"
   ],
   "id": "b9200c2c88ef0e2a",
   "outputs": [
    {
     "data": {
      "text/plain": [
       "<Axes: >"
      ]
     },
     "execution_count": 34,
     "metadata": {},
     "output_type": "execute_result"
    },
    {
     "data": {
      "text/plain": [
       "<Figure size 640x480 with 1 Axes>"
      ],
      "image/png": "[encoded data removed]"
     },
     "metadata": {},
     "output_type": "display_data"
    }
   ],
   "execution_count": 34
  },
  {
   "metadata": {
    "ExecuteTime": {
     "end_time": "2024-10-06T17:33:34.190812Z",
     "start_time": "2024-10-06T17:33:34.185790Z"
    }
   },
   "cell_type": "code",
   "source": "avg_len",
   "id": "16a75e7077821e7",
   "outputs": [
    {
     "data": {
      "text/plain": [
       "np.float64(2153.954630437492)"
      ]
     },
     "execution_count": 29,
     "metadata": {},
     "output_type": "execute_result"
    }
   ],
   "execution_count": 29
  },
  {
   "metadata": {
    "ExecuteTime": {
     "end_time": "2024-10-06T17:48:23.911766Z",
     "start_time": "2024-10-06T17:48:23.723852Z"
    }
   },
   "cell_type": "code",
   "source": [
    "# get the average and max amount of words in the text \n",
    "text[0].apply(lambda x: len(x.split())).mean(), text[0].apply(lambda x: len(x.split())).max()"
   ],
   "id": "107017d3c013a2e1",
   "outputs": [
    {
     "data": {
      "text/plain": [
       "(np.float64(380.7357596908887), np.int64(3159))"
      ]
     },
     "execution_count": 39,
     "metadata": {},
     "output_type": "execute_result"
    }
   ],
   "execution_count": 39
  },
  {
   "metadata": {
    "ExecuteTime": {
     "end_time": "2024-10-06T17:30:56.972270Z",
     "start_time": "2024-10-06T17:30:56.968176Z"
    }
   },
   "cell_type": "code",
   "source": "max_len",
   "id": "bf82746bebfab850",
   "outputs": [
    {
     "data": {
      "text/plain": [
       "np.int64(16397)"
      ]
     },
     "execution_count": 24,
     "metadata": {},
     "output_type": "execute_result"
    }
   ],
   "execution_count": 24
  },
  {
   "metadata": {
    "ExecuteTime": {
     "end_time": "2024-10-06T17:32:21.553104Z",
     "start_time": "2024-10-06T17:32:21.548845Z"
    }
   },
   "cell_type": "code",
   "source": "text[0][max_len_index]",
   "id": "9f5e158fcc3f6d18",
   "outputs": [
    {
     "data": {
      "text/plain": [
       "'Title: sworn brothers. From: hong kong. Directed by: david lai. Plot: when lam tingyat was little his father died and he was raised by police officer uncle pau and was very close to his son ngan kwok just like brothers now kwok has become a police inspector who just came back to hong kong after training in the scotland yard and ting is a triad member working for crime lord yeung tunghoi despite being on the opposite side of the law they still maintain a close relationship when kwok came back to hong kong he and his father and ting had dinner and afterwards they went out and competed on who can pee the longest in an alley there they see a police officer shek nicknamed portuguese harass a call girl and ting fights with him and kwok helps him and cuffs shek on a cart and pushes him down the alley the next day kwok reports to the police and is given a case of investigating yeungs gang and shek who has been following this case was assigned as his subordinate to assist him in the files kwok also sees a file of ting later on a ship ting meets a singer girl named peggy who asks him to use his phone and offers to pay him two dollars for using his phone however she did not have money at that time and saves it as a debt ting kwok and pau go to a temple where pau pays respect to tings father and asking for his blessing of ting being safe kwok being promoted soon and his own health since his suffers from heart disease outside of the temple kwok asks ting about his boss being involved in drug trafficking which ting replies he does not know about it kwok tells ting that he is not asking for tips from him but is trying to help him and not arrest him one day ting tells him about his plan to emigrated to america and jokingly asks him to teach him english before leaving ting goes back inside the temple and kneels n front of his fathers grave afterwards ting goes to a private hospital and gives hk100000 to the doctor to do surgery for pau but also tells him to not tell pau that the money came from him ting then goes to his boss yeung and tells of his plan to quit the triads and emigrate to america and yeung tells him he will ask his underling paul to help him deal with his immigration procedure afterwards ting goes down to his car where his parking meter just expired and peggy was just there to pay it for him peggy says that she owed him two dollars last time and paid four dollars for the parking meter which makes ting owe her two dollars now ting offers peggy a ride to her outdoor concert which she refuses and prefers to ride the train instead while peggy was riding on the train ting follows her in his car at the concert peggy trips and falls on stage which saddens her when everyone boos at her peggy goes to the side and cries until ting comes by and consoles her and takes her out to dinner and stay overnight at his house at the same time someone also attempted to assassinate yeung where he was stabbed on his hips in the morning peggy unsuccessfully attempts to make breakfast at tings house and burns the food and offers him a piece of chocolate for breakfast which ting replies he wants congee and youtiao when peggy is about to leave ting gives her a watch to which peggy replies that they are common friends easy come easy go later kwok comes up to tings house where he buys him breakfast and makes coffee and sees peggy who attempts to leave through the back door kwok asks him whether it is his girlfriend to which ting replies common friend easy come easy go he then proceeds to tell kwok his plans to emigrate to america next week later ting goes to a facial center where peggy works and gives her several boxes of chocolate she refuses it in front of him and gives it to her fat colleague but takes a bite at one when ting leaves and he sees her doing so at yeungs estate he wants ting to settle a problem with rival fung which ting refuses due to sticking to principles when everyone blames ting to be a defector he decides to help his boss and brings his underlings kalok and chan kwo with him later it is revealed that the assassination attempt was set up by yeung so ting would help him when ting and his crew make it to fungs place ting and kwo goes up and asks kalok to wait in the car while discussing with fung ting and fung get into a heated argument when fing wants a bigger piece of the pie and ting beats fungs head on the table which then all of fungs henchmen drew their guns at ting fung asks ting where is yeungs cocaine which the latter refuses to tell and fung then ties up kwo and beats him with a hammer kalok hears noise from downstairs and proceeds to get guns and alcohol from his trunk while also seeing his mother in the streets who have not seen him in a while after a brief talk with his mother kalok proceeds to go up the building and comes in and throws the alcohol which causes a fire and shoots at fungs henchmen after kalok runs out of ammunition one of fungs henchmen shot and killed him which then ting fights the henchmen and stabs him with a dart before killing him with his gun fung escapes by jumping out the window to the next floor and ting chases him by jumping down floor by floor to the street and finally confront him and shoots him multiple times to death afterwards ting gives a call to peggy who then goes to his house and treat his injuries there she cries and tells him that her heart aches while seeing him bleeding ting asks her that she said easy come easy go but peggy finally confesses that she loves him at the police station sergeant shek tells commander chan chunghon that he found evidence that ting killed fung commander chan then gives permission to shek to arrest ting when shek and his crew arrive at tings house peggy tries to stop them but is beaten up by them and ting escapes through the back door to the top of the building ting manages to overpower sheks crew and then shek holds peggy hostage at the top of the building ting then hits sheks gun away with a metal pole and fights with him until shek is about to fall off the edge of the building shek begs for tings help and offers a deal to not arrest him if he saves him and ting tries to pull him up at that time kwok also comes to his house and seeing it all messed up with the window broken and some blood he comes to the top of the building and sees ting where he says he will arrest him for killing a police officer after pulling shek up shek proceeds to fight ting where kwok helps ting to fend him off kwok then points his gun towards ting where shek tries to hit him with a metal pole from behind which then ting kicks him off the building but landed on the air conditioners when kwok tries to arrest ting peggy takes the metal pole and hits kwoks back and she and ting leave at the police station commander chan demotes kwok after knowing about his close relationship with ting and after reading sheks report stating he saw kwok letting ting go after leaving his office shek comes by and humiliates kwok who proceeds to fight with him before being stopped by his colleagues kwok then goes to a private restaurant where yeung and his underling fat ko wai are eating and attempts to arrest yeung before being kicked out by the manager since he does not have a warrant the next day ting goes to the estate of yeung who gives him a large sum of money to illegally enter brazil to which ting asks yeung to give half of the money to kalok and kwos families yeung then expresses he does not want ting to leave and tells him to take care ting then tells peggy his plan to go brazil and cannot take her with him since he is a wanted criminal and does not know what will happen peggy then convinces ting to take her with him by stating she wants to start a new life with him and if he lives he would have no friends and shek would kill her if he tries to find him ting finally agrees to take her with him and tells her he will go pick her up at 3 am after visiting uncle pau at paus house while he was fixing something ting knocks but ignores him to which then ting climbs in ting then apologizes to pau and gives him a sum of money which pau refuses and states that ting needs it more than himself at first pau refuses to let ting in the house and close the window shades but he was actually trying to hide ting and lets him in and tells him to leave through the back door as there are people spying on him outside he tells him to not trust anyone and depend on himself before leaving ting puts the money on top of a shelf then shek comes by and attempts to search the house without a warrant pau attempts to stop him but shek pushes him away and tries to find ting later pau unsuccessfully try to tackle shek and shek leaves ting comes back in the house and sees pau having a heart attack and ting gives him his medicine while trying to leave the house to the hospital shek comes back and ting begs shek to allow him to take pau to the hospital when shek refuses he tries beat him and pau bites his leg and ting pushes him to a rake where he was stabbed to death ting then takes pau to the hospital and tries to hide his face when he sees his wanted poster on the wall when the police recognizes him he runs then kwok comes into the hospital and was informed by his colleague that ting brought pau to the hospital and is running now kwok then receives a message from ting and he calls him back which ting tells him he needs to take good care of pau and he has left money at his house while also stating they might not see each other again in the hospital pau asks kwok to help ting leave hong kong safely ting goes to pick peggy up but was confronted by kwok in the parking lot where kwok questions him how many has he killed kwok is determined to arrest ting for killing people peggy then tells kwok that ting saved his fathers life and risked himself as a wanted criminal to take his father to the hospital ting then tells peggy to shut up stating that it is between him and his brother and is none of her business peggy states kwok is not worthy enough to be tings brother since she understand him better than a brother of over 20 years ting holds his hands up and kwok proceeds to cuff him but peggy takes kwoks gun and points at him saying this is tings last chance and asks him whether he really wants to arrest ting and have him imprisoned for life she also states their future is depending on him and begs him to let them go ting then takes the gun and tells kwok that they were childhood friends who both dreamed of being cops they both joined the police academy together but ting was unsuccessful he also tells him he does not want to be a wanted criminal and have no choice but to leave ting gives kwok back his gun and finally agrees to let them go while also offering his motorbike to them since tings car is being tracked by the police on the ship leaving hong kong ting and peggy happily talk about their life in the future stating that there will be hardship but they can start a new life peggy then jokingly warns ting not try to court girls in brazil since she heard that they are very nice ting says brazilian girls are dark skinned and have body odor and would only love peggy peggy then says she wishes their children in the future to join the brazilian soccer team and play at the world cup ting then asks peggy how long have they known and peggy clearly remembers it has been a month and six days ting also asks whether she will worry that he might leave her to which she replies she is the only girl in brazil without body odor as they are kissing fat ko comes up and shoots ting in the back and he falls into the water and the ship explodes which kills peggy and several of yeungs henchmen yeung watches this on the shore with his lawyer at yeungs estate his lawyer tells him ting will find out that yeung was the mastermind behind this and he would testify against him yeung then decides to kill him but his lawyer tell him that it is impossible to do so since he is a wanted criminal and he is locked up tightly kwok visits ting at the hospital and brings him a jar of soup there ting asks kwok about uncle paus condition and tells him not to tell pau that he is in prison since it would greatly upset him ting then gets angry and upset and kwok tells him not to be upset and saying he would serve a lighter term if he cooperates with the police however ting states that even so he would still have to serve 30 to 50 years in prison and would be old when he comes out and would be useless he is only in his twenties and he is afraid kwok then tells him that being in jail does not mean there is no more hope ting then says over the past ten years he has not done anything right and is a failure and says he will do something right this time by testifying against yeung and helping kwok recover his position he tells kwok that he will think it over in prison and is determined to become a good person again kwok leaves and steps in to his car but upon seeing tings watch he comes back and gives it to the officers to safely store it for him while showering a prisoner tries to stab ting but misses and stabs someone else another prisoner strangles ting with a towel and ting was stabbed the injured prisoner crawls out calling for help and kwok sees this and goes in the shower room with the other officers kwok sees ting being tortured by two prisoners and hits one of them to the wall while other smashes his head with a piece of glass which knocks him unconscious at the hospital the doctor tells pau that kwoks left brain was devastated and dry blood are on his brain stem which causes his brain to be heavily injured the doctors states that if he does not do surgery immediately he would become aphasia if worse may become hemiplegic pau then asks the doctor the probability that the operation would be successful to which the doctor replies fifty percent afterwards pau visits ting and seeing him all injured he is sorry to his father he tells ting that since he was a child he treated him very well as his own son and would only beat kwok for misbehaving and when he wants to beat him he would think of his father and give him a lot of freedom pau now realizes that this is a mistake and saying that he does have much time left but hopes to see the two brothers have a successful career and family seeing kwok being heavily injured in the brain and ting being beaten badly and in prison pau is greatly saddened and has a heart attack and is taken away by the nurse later when ting sees yeung on the newspaper he becomes furious and decides to escape from prison by holding a nurse hostage after he successfully escapes he goes to an opening ceremony of a buddhist temple where yeung funded to build there ting takes out his gun and attempts to shoot yeung but her daughter laichu blocks him however yeung pushes his daughter away and runs towards ting was being tackled and cuffed by the police at that time yeung was also informed that her daughter has a miscarriage which makes her greatly mad at her father ting and yeung were brought to court and were charged for 28 cases of smuggling and 15 cases of instructing murder during 1974 to 1986 since their crimes were major they are not allowed for bail however yeungs lawyer tell the judge that his client is a public figure in hong kong who must attend public meetings during the week and may not be locked up the judge then allowed yeung to be bailed on hk3 million cash and must give out his travel passports during the second court trial tings lawyer convinced the judge that ting lost his parents during childhood and never had a proper education while also being stressed by yeung while yeungs lawyer stated that his client is a rich tycoon with a net worth of hk500 million and would not smuggle for only 34 million and the lack of evidence against him in the end the jury decided ting to be guilty and yeung not guilty ting was pleaded guilty by the judge and is sentenced to capital punishment since murder is a cruel crime and selling drugs does great harm to the community while yeung is pleaded not guilty is released immediately after the trial kwok who is wearing a neck brace comes and gives a hug to ting while he is actually giving ting a chance to pull out his gun and shoot yeung multiple times to death and the bailiffs were trying to stop him after killing yeung ting drops the gun and he and kwok happily raise their hands up'"
      ]
     },
     "execution_count": 26,
     "metadata": {},
     "output_type": "execute_result"
    }
   ],
   "execution_count": 26
  },
  {
   "metadata": {},
   "cell_type": "code",
   "outputs": [],
   "execution_count": null,
   "source": "",
   "id": "e94f6c5efc263117"
  }
 ],
 "metadata": {
  "kernelspec": {
   "display_name": "Python 3",
   "language": "python",
   "name": "python3"
  },
  "language_info": {
   "codemirror_mode": {
    "name": "ipython",
    "version": 2
   },
   "file_extension": ".py",
   "mimetype": "text/x-python",
   "name": "python",
   "nbconvert_exporter": "python",
   "pygments_lexer": "ipython2",
   "version": "2.7.6"
  }
 },
 "nbformat": 4,
 "nbformat_minor": 5
}
