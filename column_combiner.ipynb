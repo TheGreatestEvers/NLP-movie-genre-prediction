{
 "cells": [
  {
   "metadata": {},
   "cell_type": "markdown",
   "source": [
    "<H1>Column Combiner</H1>\n",
    "<h4> This notebook is used to combines the columns title, from, director, and plot to a single column</h4>"
   ],
   "id": "f8baccac049acca"
  },
  {
   "metadata": {
    "ExecuteTime": {
     "end_time": "2024-10-06T16:00:43.190161Z",
     "start_time": "2024-10-06T16:00:42.847600Z"
    }
   },
   "cell_type": "code",
   "source": "import pandas as pd",
   "id": "476fbccdf3e918d6",
   "outputs": [],
   "execution_count": 1
  },
  {
   "cell_type": "code",
   "id": "initial_id",
   "metadata": {
    "collapsed": true,
    "ExecuteTime": {
     "end_time": "2024-10-06T16:01:18.052461Z",
     "start_time": "2024-10-06T16:01:17.887313Z"
    }
   },
   "source": "train_cleaned = pd.read_csv('data/train_cleaned.txt', sep='\\t', header=None, names=['title', 'from', 'genre', 'director', 'plot'])",
   "outputs": [],
   "execution_count": 3
  },
  {
   "metadata": {
    "ExecuteTime": {
     "end_time": "2024-10-06T16:01:22.225577Z",
     "start_time": "2024-10-06T16:01:22.216857Z"
    }
   },
   "cell_type": "code",
   "source": "train_cleaned.head()",
   "id": "24cba386c65bd703",
   "outputs": [
    {
     "data": {
      "text/plain": [
       "                       title       from    genre       director  \\\n",
       "0               ela cheppanu     telugu  romance         ramana   \n",
       "1  a nightmare on elm street   american   horror   samuel bayer   \n",
       "2            american gothic   american   horror     john hough   \n",
       "3                       gang  bollywood    crime    mazhar khan   \n",
       "4         intimate relations    british    drama  charles frank   \n",
       "\n",
       "                                                plot  \n",
       "0  sekhar tarun is a graduate from iim and works ...  \n",
       "1  kris fowles katie cassidy goes to the springwo...  \n",
       "2  cynthia is traumatized by the death of her bab...  \n",
       "3  four friends gangu jackie shroff abdul nana pa...  \n",
       "4  crisis in a middleclass family when the son fa...  "
      ],
      "text/html": [
       "<div>\n",
       "<style scoped>\n",
       "    .dataframe tbody tr th:only-of-type {\n",
       "        vertical-align: middle;\n",
       "    }\n",
       "\n",
       "    .dataframe tbody tr th {\n",
       "        vertical-align: top;\n",
       "    }\n",
       "\n",
       "    .dataframe thead th {\n",
       "        text-align: right;\n",
       "    }\n",
       "</style>\n",
       "<table border=\"1\" class=\"dataframe\">\n",
       "  <thead>\n",
       "    <tr style=\"text-align: right;\">\n",
       "      <th></th>\n",
       "      <th>title</th>\n",
       "      <th>from</th>\n",
       "      <th>genre</th>\n",
       "      <th>director</th>\n",
       "      <th>plot</th>\n",
       "    </tr>\n",
       "  </thead>\n",
       "  <tbody>\n",
       "    <tr>\n",
       "      <th>0</th>\n",
       "      <td>ela cheppanu</td>\n",
       "      <td>telugu</td>\n",
       "      <td>romance</td>\n",
       "      <td>ramana</td>\n",
       "      <td>sekhar tarun is a graduate from iim and works ...</td>\n",
       "    </tr>\n",
       "    <tr>\n",
       "      <th>1</th>\n",
       "      <td>a nightmare on elm street</td>\n",
       "      <td>american</td>\n",
       "      <td>horror</td>\n",
       "      <td>samuel bayer</td>\n",
       "      <td>kris fowles katie cassidy goes to the springwo...</td>\n",
       "    </tr>\n",
       "    <tr>\n",
       "      <th>2</th>\n",
       "      <td>american gothic</td>\n",
       "      <td>american</td>\n",
       "      <td>horror</td>\n",
       "      <td>john hough</td>\n",
       "      <td>cynthia is traumatized by the death of her bab...</td>\n",
       "    </tr>\n",
       "    <tr>\n",
       "      <th>3</th>\n",
       "      <td>gang</td>\n",
       "      <td>bollywood</td>\n",
       "      <td>crime</td>\n",
       "      <td>mazhar khan</td>\n",
       "      <td>four friends gangu jackie shroff abdul nana pa...</td>\n",
       "    </tr>\n",
       "    <tr>\n",
       "      <th>4</th>\n",
       "      <td>intimate relations</td>\n",
       "      <td>british</td>\n",
       "      <td>drama</td>\n",
       "      <td>charles frank</td>\n",
       "      <td>crisis in a middleclass family when the son fa...</td>\n",
       "    </tr>\n",
       "  </tbody>\n",
       "</table>\n",
       "</div>"
      ]
     },
     "execution_count": 4,
     "metadata": {},
     "output_type": "execute_result"
    }
   ],
   "execution_count": 4
  },
  {
   "metadata": {
    "ExecuteTime": {
     "end_time": "2024-10-06T16:01:52.148406Z",
     "start_time": "2024-10-06T16:01:52.074877Z"
    }
   },
   "cell_type": "code",
   "source": [
    "train_cleaned['combined_text'] = train_cleaned.apply(\n",
    "    lambda row: f\"Title: {row['title']}. From: {row['from']}. Directed by: {row['director']}. Plot: {row['plot']}\", \n",
    "    axis=1\n",
    ")"
   ],
   "id": "275ff853d2bf1d2f",
   "outputs": [],
   "execution_count": 5
  },
  {
   "metadata": {
    "ExecuteTime": {
     "end_time": "2024-10-06T16:02:25.820240Z",
     "start_time": "2024-10-06T16:02:25.814533Z"
    }
   },
   "cell_type": "code",
   "source": [
    "# drop all old columns and keep only the combined_text and genre columns\n",
    "train_cleaned = train_cleaned.drop(columns=['title', 'from', 'director', 'plot'])"
   ],
   "id": "1d4b93db8d1e2913",
   "outputs": [],
   "execution_count": 8
  },
  {
   "metadata": {
    "ExecuteTime": {
     "end_time": "2024-10-06T16:02:29.848537Z",
     "start_time": "2024-10-06T16:02:29.842475Z"
    }
   },
   "cell_type": "code",
   "source": "train_cleaned",
   "id": "cd944d6b2c4a56b5",
   "outputs": [
    {
     "data": {
      "text/plain": [
       "        genre                                      combined_text\n",
       "0     romance  Title: ela cheppanu. From: telugu. Directed by...\n",
       "1      horror  Title: a nightmare on elm street. From: americ...\n",
       "2      horror  Title: american gothic. From: american. Direct...\n",
       "3       crime  Title: gang. From: bollywood. Directed by: maz...\n",
       "4       drama  Title: intimate relations. From: british. Dire...\n",
       "...       ...                                                ...\n",
       "8018    drama  Title: sa 'yo lamang. From: filipino. Directed...\n",
       "8019    drama  Title: the lemon sisters. From: american. Dire...\n",
       "8020  romance  Title: dil ne phir yaad kiya. From: bollywood....\n",
       "8021  romance  Title: rehnaa hai terre dil mein. From: bollyw...\n",
       "8022   sci-fi  Title: things to come. From: british. Directed...\n",
       "\n",
       "[8023 rows x 2 columns]"
      ],
      "text/html": [
       "<div>\n",
       "<style scoped>\n",
       "    .dataframe tbody tr th:only-of-type {\n",
       "        vertical-align: middle;\n",
       "    }\n",
       "\n",
       "    .dataframe tbody tr th {\n",
       "        vertical-align: top;\n",
       "    }\n",
       "\n",
       "    .dataframe thead th {\n",
       "        text-align: right;\n",
       "    }\n",
       "</style>\n",
       "<table border=\"1\" class=\"dataframe\">\n",
       "  <thead>\n",
       "    <tr style=\"text-align: right;\">\n",
       "      <th></th>\n",
       "      <th>genre</th>\n",
       "      <th>combined_text</th>\n",
       "    </tr>\n",
       "  </thead>\n",
       "  <tbody>\n",
       "    <tr>\n",
       "      <th>0</th>\n",
       "      <td>romance</td>\n",
       "      <td>Title: ela cheppanu. From: telugu. Directed by...</td>\n",
       "    </tr>\n",
       "    <tr>\n",
       "      <th>1</th>\n",
       "      <td>horror</td>\n",
       "      <td>Title: a nightmare on elm street. From: americ...</td>\n",
       "    </tr>\n",
       "    <tr>\n",
       "      <th>2</th>\n",
       "      <td>horror</td>\n",
       "      <td>Title: american gothic. From: american. Direct...</td>\n",
       "    </tr>\n",
       "    <tr>\n",
       "      <th>3</th>\n",
       "      <td>crime</td>\n",
       "      <td>Title: gang. From: bollywood. Directed by: maz...</td>\n",
       "    </tr>\n",
       "    <tr>\n",
       "      <th>4</th>\n",
       "      <td>drama</td>\n",
       "      <td>Title: intimate relations. From: british. Dire...</td>\n",
       "    </tr>\n",
       "    <tr>\n",
       "      <th>...</th>\n",
       "      <td>...</td>\n",
       "      <td>...</td>\n",
       "    </tr>\n",
       "    <tr>\n",
       "      <th>8018</th>\n",
       "      <td>drama</td>\n",
       "      <td>Title: sa 'yo lamang. From: filipino. Directed...</td>\n",
       "    </tr>\n",
       "    <tr>\n",
       "      <th>8019</th>\n",
       "      <td>drama</td>\n",
       "      <td>Title: the lemon sisters. From: american. Dire...</td>\n",
       "    </tr>\n",
       "    <tr>\n",
       "      <th>8020</th>\n",
       "      <td>romance</td>\n",
       "      <td>Title: dil ne phir yaad kiya. From: bollywood....</td>\n",
       "    </tr>\n",
       "    <tr>\n",
       "      <th>8021</th>\n",
       "      <td>romance</td>\n",
       "      <td>Title: rehnaa hai terre dil mein. From: bollyw...</td>\n",
       "    </tr>\n",
       "    <tr>\n",
       "      <th>8022</th>\n",
       "      <td>sci-fi</td>\n",
       "      <td>Title: things to come. From: british. Directed...</td>\n",
       "    </tr>\n",
       "  </tbody>\n",
       "</table>\n",
       "<p>8023 rows × 2 columns</p>\n",
       "</div>"
      ]
     },
     "execution_count": 9,
     "metadata": {},
     "output_type": "execute_result"
    }
   ],
   "execution_count": 9
  },
  {
   "metadata": {
    "ExecuteTime": {
     "end_time": "2024-10-06T16:02:43.559114Z",
     "start_time": "2024-10-06T16:02:43.554920Z"
    }
   },
   "cell_type": "code",
   "source": [
    "# swap the columns\n",
    "train_cleaned = train_cleaned[['combined_text', 'genre']]"
   ],
   "id": "afa71aeb553f5f70",
   "outputs": [],
   "execution_count": 10
  },
  {
   "metadata": {
    "ExecuteTime": {
     "end_time": "2024-10-06T16:03:03.064662Z",
     "start_time": "2024-10-06T16:03:02.844831Z"
    }
   },
   "cell_type": "code",
   "source": [
    "# save the combined data to a new file\n",
    "train_cleaned.to_csv('data/train_combined.csv', index=False, header=False)"
   ],
   "id": "5efa25236b8bf2e1",
   "outputs": [],
   "execution_count": 11
  }
 ],
 "metadata": {
  "kernelspec": {
   "display_name": "Python 3",
   "language": "python",
   "name": "python3"
  },
  "language_info": {
   "codemirror_mode": {
    "name": "ipython",
    "version": 2
   },
   "file_extension": ".py",
   "mimetype": "text/x-python",
   "name": "python",
   "nbconvert_exporter": "python",
   "pygments_lexer": "ipython2",
   "version": "2.7.6"
  }
 },
 "nbformat": 4,
 "nbformat_minor": 5
}
