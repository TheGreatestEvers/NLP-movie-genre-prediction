{
 "cells": [
  {
   "metadata": {},
   "cell_type": "markdown",
   "source": "<h1> Data Cleaning for BERT Model </h1>",
   "id": "d31a11028dfb6b1d"
  },
  {
   "cell_type": "code",
   "id": "initial_id",
   "metadata": {
    "collapsed": true,
    "ExecuteTime": {
     "end_time": "2024-10-18T17:21:47.504707Z",
     "start_time": "2024-10-18T17:21:46.607100Z"
    }
   },
   "source": [
    "import pandas as pd\n",
    "import re"
   ],
   "outputs": [],
   "execution_count": 4
  },
  {
   "metadata": {
    "ExecuteTime": {
     "end_time": "2024-10-18T18:23:10.672841Z",
     "start_time": "2024-10-18T18:23:10.424653Z"
    }
   },
   "cell_type": "code",
   "source": [
    "# read the data from the file and store it in a pandas dataframe\n",
    "training_data = pd.read_csv('./data/train.txt', sep='\\t', header=None, names=['title', 'from', 'genre', 'director', 'plot'])"
   ],
   "id": "49cf108ae6509e69",
   "outputs": [],
   "execution_count": 21
  },
  {
   "metadata": {
    "ExecuteTime": {
     "end_time": "2024-10-18T19:29:23.009969Z",
     "start_time": "2024-10-18T19:29:22.999473Z"
    }
   },
   "cell_type": "code",
   "source": "training_data[training_data[\"title\"] == \"The Lightkeepers\"]",
   "id": "d1d74ff0d90eab48",
   "outputs": [
    {
     "data": {
      "text/plain": [
       "                 title      from   genre      director  \\\n",
       "1608  The Lightkeepers  American  comedy  Daniel Adams   \n",
       "\n",
       "                                                   plot  \n",
       "1608  The film is set on Cape Cod, Massachusetts, in...  "
      ],
      "text/html": [
       "<div>\n",
       "<style scoped>\n",
       "    .dataframe tbody tr th:only-of-type {\n",
       "        vertical-align: middle;\n",
       "    }\n",
       "\n",
       "    .dataframe tbody tr th {\n",
       "        vertical-align: top;\n",
       "    }\n",
       "\n",
       "    .dataframe thead th {\n",
       "        text-align: right;\n",
       "    }\n",
       "</style>\n",
       "<table border=\"1\" class=\"dataframe\">\n",
       "  <thead>\n",
       "    <tr style=\"text-align: right;\">\n",
       "      <th></th>\n",
       "      <th>title</th>\n",
       "      <th>from</th>\n",
       "      <th>genre</th>\n",
       "      <th>director</th>\n",
       "      <th>plot</th>\n",
       "    </tr>\n",
       "  </thead>\n",
       "  <tbody>\n",
       "    <tr>\n",
       "      <th>1608</th>\n",
       "      <td>The Lightkeepers</td>\n",
       "      <td>American</td>\n",
       "      <td>comedy</td>\n",
       "      <td>Daniel Adams</td>\n",
       "      <td>The film is set on Cape Cod, Massachusetts, in...</td>\n",
       "    </tr>\n",
       "  </tbody>\n",
       "</table>\n",
       "</div>"
      ]
     },
     "execution_count": 27,
     "metadata": {},
     "output_type": "execute_result"
    }
   ],
   "execution_count": 27
  },
  {
   "metadata": {
    "ExecuteTime": {
     "end_time": "2024-10-06T15:12:29.402004Z",
     "start_time": "2024-10-06T15:12:29.397617Z"
    }
   },
   "cell_type": "code",
   "source": "training_data.shape",
   "id": "ec56df1d3bdf0908",
   "outputs": [
    {
     "data": {
      "text/plain": [
       "(8041, 5)"
      ]
     },
     "execution_count": 11,
     "metadata": {},
     "output_type": "execute_result"
    }
   ],
   "execution_count": 11
  },
  {
   "metadata": {
    "ExecuteTime": {
     "end_time": "2024-10-18T17:25:38.386681Z",
     "start_time": "2024-10-18T17:25:38.362725Z"
    }
   },
   "cell_type": "code",
   "source": [
    "# ONLY for test data\n",
    "# read the data from the file and store it in a pandas dataframe\n",
    "test_data = pd.read_csv('./data/test_no_labels.txt', sep='\\t', header=None, names=['title', 'from', 'director', 'plot'])"
   ],
   "id": "73641bc83c5c47c7",
   "outputs": [],
   "execution_count": 13
  },
  {
   "metadata": {
    "ExecuteTime": {
     "end_time": "2024-10-18T17:21:49.958193Z",
     "start_time": "2024-10-18T17:21:49.951567Z"
    }
   },
   "cell_type": "code",
   "source": "test_data.shape",
   "id": "bd9d82dc0440c5ea",
   "outputs": [
    {
     "data": {
      "text/plain": [
       "(400, 4)"
      ]
     },
     "execution_count": 6,
     "metadata": {},
     "output_type": "execute_result"
    }
   ],
   "execution_count": 6
  },
  {
   "metadata": {
    "ExecuteTime": {
     "end_time": "2024-10-18T17:25:42.074768Z",
     "start_time": "2024-10-18T17:25:42.071805Z"
    }
   },
   "cell_type": "code",
   "source": [
    "# ONLY for test data\n",
    "training_data_no_duplicates = test_data"
   ],
   "id": "3f599ba2da6c3dcf",
   "outputs": [],
   "execution_count": 14
  },
  {
   "metadata": {
    "ExecuteTime": {
     "end_time": "2024-10-06T15:22:18.787774Z",
     "start_time": "2024-10-06T15:22:18.734508Z"
    }
   },
   "cell_type": "code",
   "source": [
    "# drop duplicates from the dataframe\n",
    "training_data_no_duplicates = training_data.drop_duplicates()"
   ],
   "id": "2cee24e31daf30db",
   "outputs": [],
   "execution_count": 20
  },
  {
   "metadata": {
    "ExecuteTime": {
     "end_time": "2024-10-06T15:22:20.973993Z",
     "start_time": "2024-10-06T15:22:20.969225Z"
    }
   },
   "cell_type": "code",
   "source": "training_data_no_duplicates.shape",
   "id": "2e073f1bfa23d9c0",
   "outputs": [
    {
     "data": {
      "text/plain": [
       "(8023, 5)"
      ]
     },
     "execution_count": 21,
     "metadata": {},
     "output_type": "execute_result"
    }
   ],
   "execution_count": 21
  },
  {
   "metadata": {
    "ExecuteTime": {
     "end_time": "2024-10-18T17:25:48.452472Z",
     "start_time": "2024-10-18T17:25:48.445039Z"
    }
   },
   "cell_type": "code",
   "source": [
    "# convert everything to lowercase\n",
    "training_data_no_duplicates = training_data_no_duplicates.apply(lambda x: x.str.lower())"
   ],
   "id": "3ef86e61d119117c",
   "outputs": [],
   "execution_count": 15
  },
  {
   "metadata": {
    "ExecuteTime": {
     "end_time": "2024-10-18T17:25:49.679588Z",
     "start_time": "2024-10-18T17:25:49.670519Z"
    }
   },
   "cell_type": "code",
   "source": "training_data_no_duplicates.head()",
   "id": "1012bc4db5e031f1",
   "outputs": [
    {
     "data": {
      "text/plain": [
       "                                               title          from  \\\n",
       "0                                       bava nachadu        telugu   \n",
       "1                                              quick  south_korean   \n",
       "2  doraemon: nobita's great battle of the mermaid...      japanese   \n",
       "3                                little school mouse      american   \n",
       "4                                 the little damozel       british   \n",
       "\n",
       "         director                                               plot  \n",
       "0    ks ravikumar  ajay (nagarjuna akkineni) is an adman (directo...  \n",
       "1         unknown  seoul, 2004. a group of bikers are joy-riding ...  \n",
       "2         unknown  the film opens with a sunken ship, in which a ...  \n",
       "3   hanna-barbera  jerry decides to school tuffy in the basics of...  \n",
       "4  herbert wilcox  gambler recky poole (james rennie) accepts a b...  "
      ],
      "text/html": [
       "<div>\n",
       "<style scoped>\n",
       "    .dataframe tbody tr th:only-of-type {\n",
       "        vertical-align: middle;\n",
       "    }\n",
       "\n",
       "    .dataframe tbody tr th {\n",
       "        vertical-align: top;\n",
       "    }\n",
       "\n",
       "    .dataframe thead th {\n",
       "        text-align: right;\n",
       "    }\n",
       "</style>\n",
       "<table border=\"1\" class=\"dataframe\">\n",
       "  <thead>\n",
       "    <tr style=\"text-align: right;\">\n",
       "      <th></th>\n",
       "      <th>title</th>\n",
       "      <th>from</th>\n",
       "      <th>director</th>\n",
       "      <th>plot</th>\n",
       "    </tr>\n",
       "  </thead>\n",
       "  <tbody>\n",
       "    <tr>\n",
       "      <th>0</th>\n",
       "      <td>bava nachadu</td>\n",
       "      <td>telugu</td>\n",
       "      <td>ks ravikumar</td>\n",
       "      <td>ajay (nagarjuna akkineni) is an adman (directo...</td>\n",
       "    </tr>\n",
       "    <tr>\n",
       "      <th>1</th>\n",
       "      <td>quick</td>\n",
       "      <td>south_korean</td>\n",
       "      <td>unknown</td>\n",
       "      <td>seoul, 2004. a group of bikers are joy-riding ...</td>\n",
       "    </tr>\n",
       "    <tr>\n",
       "      <th>2</th>\n",
       "      <td>doraemon: nobita's great battle of the mermaid...</td>\n",
       "      <td>japanese</td>\n",
       "      <td>unknown</td>\n",
       "      <td>the film opens with a sunken ship, in which a ...</td>\n",
       "    </tr>\n",
       "    <tr>\n",
       "      <th>3</th>\n",
       "      <td>little school mouse</td>\n",
       "      <td>american</td>\n",
       "      <td>hanna-barbera</td>\n",
       "      <td>jerry decides to school tuffy in the basics of...</td>\n",
       "    </tr>\n",
       "    <tr>\n",
       "      <th>4</th>\n",
       "      <td>the little damozel</td>\n",
       "      <td>british</td>\n",
       "      <td>herbert wilcox</td>\n",
       "      <td>gambler recky poole (james rennie) accepts a b...</td>\n",
       "    </tr>\n",
       "  </tbody>\n",
       "</table>\n",
       "</div>"
      ]
     },
     "execution_count": 16,
     "metadata": {},
     "output_type": "execute_result"
    }
   ],
   "execution_count": 16
  },
  {
   "metadata": {
    "ExecuteTime": {
     "end_time": "2024-10-18T17:25:56.718145Z",
     "start_time": "2024-10-18T17:25:55.339038Z"
    }
   },
   "cell_type": "code",
   "source": [
    "# remove URLs, e-mail addresses and special characters\n",
    "\n",
    "# Define the patterns\n",
    "url_pattern = re.compile(r'http[s]?://(?:[a-zA-Z]|[0-9]|[$-_@.&+]|[!*\\\\(\\\\),]|(?:%[0-9a-fA-F][0-9a-fA-F]))+')\n",
    "email_pattern = re.compile(r'[^@]+@[^@]+\\.[^@]+')\n",
    "special_char_pattern = re.compile(r'[^a-zA-Z0-9\\s]')\n",
    "\n",
    "# Apply the patterns to each row of the 'plot' column\n",
    "training_data_no_duplicates['plot'] = training_data_no_duplicates['plot'].apply(lambda x: special_char_pattern.sub('', email_pattern.sub('', url_pattern.sub('', x))))\n"
   ],
   "id": "ebca8ebaa1ecf43a",
   "outputs": [],
   "execution_count": 17
  },
  {
   "metadata": {
    "ExecuteTime": {
     "end_time": "2024-10-18T17:25:56.732029Z",
     "start_time": "2024-10-18T17:25:56.719153Z"
    }
   },
   "cell_type": "code",
   "source": [
    "# delete redundant spaces\n",
    "training_data_no_duplicates['plot'] = training_data_no_duplicates['plot'].apply(lambda x: ' '.join(x.split()))"
   ],
   "id": "dbee56db671999a0",
   "outputs": [],
   "execution_count": 18
  },
  {
   "metadata": {
    "ExecuteTime": {
     "end_time": "2024-10-18T17:25:58.814223Z",
     "start_time": "2024-10-18T17:25:58.807184Z"
    }
   },
   "cell_type": "code",
   "source": "training_data_no_duplicates.head()",
   "id": "7f9d02571012d9",
   "outputs": [
    {
     "data": {
      "text/plain": [
       "                                               title          from  \\\n",
       "0                                       bava nachadu        telugu   \n",
       "1                                              quick  south_korean   \n",
       "2  doraemon: nobita's great battle of the mermaid...      japanese   \n",
       "3                                little school mouse      american   \n",
       "4                                 the little damozel       british   \n",
       "\n",
       "         director                                               plot  \n",
       "0    ks ravikumar  ajay nagarjuna akkineni is an adman director a...  \n",
       "1         unknown  seoul 2004 a group of bikers are joyriding thr...  \n",
       "2         unknown  the film opens with a sunken ship in which a s...  \n",
       "3   hanna-barbera  jerry decides to school tuffy in the basics of...  \n",
       "4  herbert wilcox  gambler recky poole james rennie accepts a bet...  "
      ],
      "text/html": [
       "<div>\n",
       "<style scoped>\n",
       "    .dataframe tbody tr th:only-of-type {\n",
       "        vertical-align: middle;\n",
       "    }\n",
       "\n",
       "    .dataframe tbody tr th {\n",
       "        vertical-align: top;\n",
       "    }\n",
       "\n",
       "    .dataframe thead th {\n",
       "        text-align: right;\n",
       "    }\n",
       "</style>\n",
       "<table border=\"1\" class=\"dataframe\">\n",
       "  <thead>\n",
       "    <tr style=\"text-align: right;\">\n",
       "      <th></th>\n",
       "      <th>title</th>\n",
       "      <th>from</th>\n",
       "      <th>director</th>\n",
       "      <th>plot</th>\n",
       "    </tr>\n",
       "  </thead>\n",
       "  <tbody>\n",
       "    <tr>\n",
       "      <th>0</th>\n",
       "      <td>bava nachadu</td>\n",
       "      <td>telugu</td>\n",
       "      <td>ks ravikumar</td>\n",
       "      <td>ajay nagarjuna akkineni is an adman director a...</td>\n",
       "    </tr>\n",
       "    <tr>\n",
       "      <th>1</th>\n",
       "      <td>quick</td>\n",
       "      <td>south_korean</td>\n",
       "      <td>unknown</td>\n",
       "      <td>seoul 2004 a group of bikers are joyriding thr...</td>\n",
       "    </tr>\n",
       "    <tr>\n",
       "      <th>2</th>\n",
       "      <td>doraemon: nobita's great battle of the mermaid...</td>\n",
       "      <td>japanese</td>\n",
       "      <td>unknown</td>\n",
       "      <td>the film opens with a sunken ship in which a s...</td>\n",
       "    </tr>\n",
       "    <tr>\n",
       "      <th>3</th>\n",
       "      <td>little school mouse</td>\n",
       "      <td>american</td>\n",
       "      <td>hanna-barbera</td>\n",
       "      <td>jerry decides to school tuffy in the basics of...</td>\n",
       "    </tr>\n",
       "    <tr>\n",
       "      <th>4</th>\n",
       "      <td>the little damozel</td>\n",
       "      <td>british</td>\n",
       "      <td>herbert wilcox</td>\n",
       "      <td>gambler recky poole james rennie accepts a bet...</td>\n",
       "    </tr>\n",
       "  </tbody>\n",
       "</table>\n",
       "</div>"
      ]
     },
     "execution_count": 19,
     "metadata": {},
     "output_type": "execute_result"
    }
   ],
   "execution_count": 19
  },
  {
   "metadata": {
    "ExecuteTime": {
     "end_time": "2024-10-18T17:22:47.184038Z",
     "start_time": "2024-10-18T17:22:47.180295Z"
    }
   },
   "cell_type": "code",
   "source": "training_data_no_duplicates.shape",
   "id": "19cc3ee715cf324d",
   "outputs": [
    {
     "data": {
      "text/plain": [
       "(400, 4)"
      ]
     },
     "execution_count": 11,
     "metadata": {},
     "output_type": "execute_result"
    }
   ],
   "execution_count": 11
  },
  {
   "metadata": {
    "ExecuteTime": {
     "end_time": "2024-10-18T17:26:08.214614Z",
     "start_time": "2024-10-18T17:26:08.197509Z"
    }
   },
   "cell_type": "code",
   "source": [
    "# save the cleaned data to a new file\n",
    "training_data_no_duplicates.to_csv('./data/test_no_labels_cleaned.txt', sep='\\t', index=False, header=False)"
   ],
   "id": "1288bb396448ef28",
   "outputs": [],
   "execution_count": 20
  },
  {
   "metadata": {},
   "cell_type": "code",
   "outputs": [],
   "execution_count": null,
   "source": "",
   "id": "ec3cf3addcbeffe7"
  }
 ],
 "metadata": {
  "kernelspec": {
   "display_name": "Python 3",
   "language": "python",
   "name": "python3"
  },
  "language_info": {
   "codemirror_mode": {
    "name": "ipython",
    "version": 2
   },
   "file_extension": ".py",
   "mimetype": "text/x-python",
   "name": "python",
   "nbconvert_exporter": "python",
   "pygments_lexer": "ipython2",
   "version": "2.7.6"
  }
 },
 "nbformat": 4,
 "nbformat_minor": 5
}
