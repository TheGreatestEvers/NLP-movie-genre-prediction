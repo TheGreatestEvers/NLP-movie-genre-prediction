{
 "cells": [
  {
   "metadata": {},
   "cell_type": "markdown",
   "source": "<h1> Data Cleaning for BERT Model </h1>",
   "id": "d31a11028dfb6b1d"
  },
  {
   "cell_type": "code",
   "id": "initial_id",
   "metadata": {
    "collapsed": true,
    "ExecuteTime": {
     "end_time": "2024-10-06T15:34:55.500015Z",
     "start_time": "2024-10-06T15:34:55.497428Z"
    }
   },
   "source": [
    "import pandas as pd\n",
    "import re"
   ],
   "outputs": [],
   "execution_count": 28
  },
  {
   "metadata": {
    "ExecuteTime": {
     "end_time": "2024-10-06T15:12:02.980166Z",
     "start_time": "2024-10-06T15:12:02.769849Z"
    }
   },
   "cell_type": "code",
   "source": [
    "# read the data from the file and store it in a pandas dataframe\n",
    "training_data = pd.read_csv('./data/train.txt', sep='\\t', header=None, names=['title', 'from', 'genre', 'director', 'plot'])"
   ],
   "id": "49cf108ae6509e69",
   "outputs": [],
   "execution_count": 9
  },
  {
   "metadata": {
    "ExecuteTime": {
     "end_time": "2024-10-06T15:12:29.402004Z",
     "start_time": "2024-10-06T15:12:29.397617Z"
    }
   },
   "cell_type": "code",
   "source": "training_data.shape",
   "id": "ec56df1d3bdf0908",
   "outputs": [
    {
     "data": {
      "text/plain": [
       "(8041, 5)"
      ]
     },
     "execution_count": 11,
     "metadata": {},
     "output_type": "execute_result"
    }
   ],
   "execution_count": 11
  },
  {
   "metadata": {
    "ExecuteTime": {
     "end_time": "2024-10-06T15:22:18.787774Z",
     "start_time": "2024-10-06T15:22:18.734508Z"
    }
   },
   "cell_type": "code",
   "source": [
    "# drop duplicates from the dataframe\n",
    "training_data_no_duplicates = training_data.drop_duplicates()"
   ],
   "id": "2cee24e31daf30db",
   "outputs": [],
   "execution_count": 20
  },
  {
   "metadata": {
    "ExecuteTime": {
     "end_time": "2024-10-06T15:22:20.973993Z",
     "start_time": "2024-10-06T15:22:20.969225Z"
    }
   },
   "cell_type": "code",
   "source": "training_data_no_duplicates.shape",
   "id": "2e073f1bfa23d9c0",
   "outputs": [
    {
     "data": {
      "text/plain": [
       "(8023, 5)"
      ]
     },
     "execution_count": 21,
     "metadata": {},
     "output_type": "execute_result"
    }
   ],
   "execution_count": 21
  },
  {
   "metadata": {
    "ExecuteTime": {
     "end_time": "2024-10-06T15:26:12.778888Z",
     "start_time": "2024-10-06T15:26:12.717945Z"
    }
   },
   "cell_type": "code",
   "source": [
    "# convert everything to lowercase\n",
    "training_data_no_duplicates = training_data_no_duplicates.apply(lambda x: x.str.lower())"
   ],
   "id": "3ef86e61d119117c",
   "outputs": [],
   "execution_count": 23
  },
  {
   "metadata": {
    "ExecuteTime": {
     "end_time": "2024-10-06T15:26:14.811482Z",
     "start_time": "2024-10-06T15:26:14.804562Z"
    }
   },
   "cell_type": "code",
   "source": "training_data_no_duplicates.head()",
   "id": "1012bc4db5e031f1",
   "outputs": [
    {
     "data": {
      "text/plain": [
       "                       title       from    genre       director  \\\n",
       "0               ela cheppanu     telugu  romance         ramana   \n",
       "1  a nightmare on elm street   american   horror   samuel bayer   \n",
       "2            american gothic   american   horror     john hough   \n",
       "3                       gang  bollywood    crime    mazhar khan   \n",
       "4         intimate relations    british    drama  charles frank   \n",
       "\n",
       "                                                plot  \n",
       "0  sekhar (tarun) is a graduate from iim and work...  \n",
       "1  kris fowles (katie cassidy) goes to the spring...  \n",
       "2  cynthia is traumatized by the death of her bab...  \n",
       "3  four friends, gangu (jackie shroff), abdul (na...  \n",
       "4  crisis in a middle-class family when the son f...  "
      ],
      "text/html": [
       "<div>\n",
       "<style scoped>\n",
       "    .dataframe tbody tr th:only-of-type {\n",
       "        vertical-align: middle;\n",
       "    }\n",
       "\n",
       "    .dataframe tbody tr th {\n",
       "        vertical-align: top;\n",
       "    }\n",
       "\n",
       "    .dataframe thead th {\n",
       "        text-align: right;\n",
       "    }\n",
       "</style>\n",
       "<table border=\"1\" class=\"dataframe\">\n",
       "  <thead>\n",
       "    <tr style=\"text-align: right;\">\n",
       "      <th></th>\n",
       "      <th>title</th>\n",
       "      <th>from</th>\n",
       "      <th>genre</th>\n",
       "      <th>director</th>\n",
       "      <th>plot</th>\n",
       "    </tr>\n",
       "  </thead>\n",
       "  <tbody>\n",
       "    <tr>\n",
       "      <th>0</th>\n",
       "      <td>ela cheppanu</td>\n",
       "      <td>telugu</td>\n",
       "      <td>romance</td>\n",
       "      <td>ramana</td>\n",
       "      <td>sekhar (tarun) is a graduate from iim and work...</td>\n",
       "    </tr>\n",
       "    <tr>\n",
       "      <th>1</th>\n",
       "      <td>a nightmare on elm street</td>\n",
       "      <td>american</td>\n",
       "      <td>horror</td>\n",
       "      <td>samuel bayer</td>\n",
       "      <td>kris fowles (katie cassidy) goes to the spring...</td>\n",
       "    </tr>\n",
       "    <tr>\n",
       "      <th>2</th>\n",
       "      <td>american gothic</td>\n",
       "      <td>american</td>\n",
       "      <td>horror</td>\n",
       "      <td>john hough</td>\n",
       "      <td>cynthia is traumatized by the death of her bab...</td>\n",
       "    </tr>\n",
       "    <tr>\n",
       "      <th>3</th>\n",
       "      <td>gang</td>\n",
       "      <td>bollywood</td>\n",
       "      <td>crime</td>\n",
       "      <td>mazhar khan</td>\n",
       "      <td>four friends, gangu (jackie shroff), abdul (na...</td>\n",
       "    </tr>\n",
       "    <tr>\n",
       "      <th>4</th>\n",
       "      <td>intimate relations</td>\n",
       "      <td>british</td>\n",
       "      <td>drama</td>\n",
       "      <td>charles frank</td>\n",
       "      <td>crisis in a middle-class family when the son f...</td>\n",
       "    </tr>\n",
       "  </tbody>\n",
       "</table>\n",
       "</div>"
      ]
     },
     "execution_count": 24,
     "metadata": {},
     "output_type": "execute_result"
    }
   ],
   "execution_count": 24
  },
  {
   "metadata": {
    "ExecuteTime": {
     "end_time": "2024-10-06T15:36:22.494981Z",
     "start_time": "2024-10-06T15:36:01.026424Z"
    }
   },
   "cell_type": "code",
   "source": [
    "# remove URLs, e-mail addresses and special characters\n",
    "\n",
    "# Define the patterns\n",
    "url_pattern = re.compile(r'http[s]?://(?:[a-zA-Z]|[0-9]|[$-_@.&+]|[!*\\\\(\\\\),]|(?:%[0-9a-fA-F][0-9a-fA-F]))+')\n",
    "email_pattern = re.compile(r'[^@]+@[^@]+\\.[^@]+')\n",
    "special_char_pattern = re.compile(r'[^a-zA-Z0-9\\s]')\n",
    "\n",
    "# Apply the patterns to each row of the 'plot' column\n",
    "training_data_no_duplicates['plot'] = training_data_no_duplicates['plot'].apply(lambda x: special_char_pattern.sub('', email_pattern.sub('', url_pattern.sub('', x))))\n"
   ],
   "id": "ebca8ebaa1ecf43a",
   "outputs": [],
   "execution_count": 29
  },
  {
   "metadata": {},
   "cell_type": "code",
   "source": [
    "# delete redundant spaces\n",
    "training_data_no_duplicates['plot'] = training_data_no_duplicates['plot'].apply(lambda x: ' '.join(x.split()))"
   ],
   "id": "dbee56db671999a0",
   "outputs": [],
   "execution_count": null
  },
  {
   "metadata": {
    "ExecuteTime": {
     "end_time": "2024-10-06T15:46:29.522730Z",
     "start_time": "2024-10-06T15:46:29.504459Z"
    }
   },
   "cell_type": "code",
   "source": "training_data_no_duplicates.head()",
   "id": "7f9d02571012d9",
   "outputs": [
    {
     "data": {
      "text/plain": [
       "                       title       from    genre       director  \\\n",
       "0               ela cheppanu     telugu  romance         ramana   \n",
       "1  a nightmare on elm street   american   horror   samuel bayer   \n",
       "2            american gothic   american   horror     john hough   \n",
       "3                       gang  bollywood    crime    mazhar khan   \n",
       "4         intimate relations    british    drama  charles frank   \n",
       "\n",
       "                                                plot  \n",
       "0  sekhar tarun is a graduate from iim and works ...  \n",
       "1  kris fowles katie cassidy goes to the springwo...  \n",
       "2  cynthia is traumatized by the death of her bab...  \n",
       "3  four friends gangu jackie shroff abdul nana pa...  \n",
       "4  crisis in a middleclass family when the son fa...  "
      ],
      "text/html": [
       "<div>\n",
       "<style scoped>\n",
       "    .dataframe tbody tr th:only-of-type {\n",
       "        vertical-align: middle;\n",
       "    }\n",
       "\n",
       "    .dataframe tbody tr th {\n",
       "        vertical-align: top;\n",
       "    }\n",
       "\n",
       "    .dataframe thead th {\n",
       "        text-align: right;\n",
       "    }\n",
       "</style>\n",
       "<table border=\"1\" class=\"dataframe\">\n",
       "  <thead>\n",
       "    <tr style=\"text-align: right;\">\n",
       "      <th></th>\n",
       "      <th>title</th>\n",
       "      <th>from</th>\n",
       "      <th>genre</th>\n",
       "      <th>director</th>\n",
       "      <th>plot</th>\n",
       "    </tr>\n",
       "  </thead>\n",
       "  <tbody>\n",
       "    <tr>\n",
       "      <th>0</th>\n",
       "      <td>ela cheppanu</td>\n",
       "      <td>telugu</td>\n",
       "      <td>romance</td>\n",
       "      <td>ramana</td>\n",
       "      <td>sekhar tarun is a graduate from iim and works ...</td>\n",
       "    </tr>\n",
       "    <tr>\n",
       "      <th>1</th>\n",
       "      <td>a nightmare on elm street</td>\n",
       "      <td>american</td>\n",
       "      <td>horror</td>\n",
       "      <td>samuel bayer</td>\n",
       "      <td>kris fowles katie cassidy goes to the springwo...</td>\n",
       "    </tr>\n",
       "    <tr>\n",
       "      <th>2</th>\n",
       "      <td>american gothic</td>\n",
       "      <td>american</td>\n",
       "      <td>horror</td>\n",
       "      <td>john hough</td>\n",
       "      <td>cynthia is traumatized by the death of her bab...</td>\n",
       "    </tr>\n",
       "    <tr>\n",
       "      <th>3</th>\n",
       "      <td>gang</td>\n",
       "      <td>bollywood</td>\n",
       "      <td>crime</td>\n",
       "      <td>mazhar khan</td>\n",
       "      <td>four friends gangu jackie shroff abdul nana pa...</td>\n",
       "    </tr>\n",
       "    <tr>\n",
       "      <th>4</th>\n",
       "      <td>intimate relations</td>\n",
       "      <td>british</td>\n",
       "      <td>drama</td>\n",
       "      <td>charles frank</td>\n",
       "      <td>crisis in a middleclass family when the son fa...</td>\n",
       "    </tr>\n",
       "  </tbody>\n",
       "</table>\n",
       "</div>"
      ]
     },
     "execution_count": 34,
     "metadata": {},
     "output_type": "execute_result"
    }
   ],
   "execution_count": 34
  },
  {
   "metadata": {
    "ExecuteTime": {
     "end_time": "2024-10-06T15:52:05.512063Z",
     "start_time": "2024-10-06T15:52:05.296891Z"
    }
   },
   "cell_type": "code",
   "source": [
    "# save the cleaned data to a new file\n",
    "training_data_no_duplicates.to_csv('./data/train_cleaned.txt', sep='\\t', index=False, header=False)"
   ],
   "id": "1288bb396448ef28",
   "outputs": [],
   "execution_count": 38
  },
  {
   "metadata": {},
   "cell_type": "code",
   "outputs": [],
   "execution_count": null,
   "source": "",
   "id": "ec3cf3addcbeffe7"
  }
 ],
 "metadata": {
  "kernelspec": {
   "display_name": "Python 3",
   "language": "python",
   "name": "python3"
  },
  "language_info": {
   "codemirror_mode": {
    "name": "ipython",
    "version": 2
   },
   "file_extension": ".py",
   "mimetype": "text/x-python",
   "name": "python",
   "nbconvert_exporter": "python",
   "pygments_lexer": "ipython2",
   "version": "2.7.6"
  }
 },
 "nbformat": 4,
 "nbformat_minor": 5
}
